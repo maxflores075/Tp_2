{
 "cells": [
  {
   "cell_type": "markdown",
   "id": "579bd6bb-aa57-4fa8-844b-5af2f13966ca",
   "metadata": {},
   "source": [
    "\n",
    "En este práctico se trabajará con el dataset de Rossmann. Rossmann es una cadena de drugstores con más de 3000 tiendas en 7 países de Europa. La tarea que se intentará resolver con este dataset es el de predicción de las ventas totales de cada tienda que tendrán lugar en un intervalo de 6 semanas. Esta competencia fue presentada en Kaggle y se puede acceder a sus recursos relacionados:\n",
    "\n",
    "https://www.kaggle.com/c/rossmann-store-sales\n",
    "\n",
    "Este práctico consiste en generar un modelo que realice la inferencia para el problema planteado. Los entregables consisten en:\n",
    "\n",
    "Compartir el link de un repositorio que contenga:\n",
    "\n",
    "La/s notebook/s con la resolución del ejercicio y todo el código propio utilizado para correr la/s notebooks.\n",
    "Un archivo requirements.txt con las versiones de las librerías de Python utilizadas (en formato pip)\n",
    "Captura de pantalla con el máximo score obtenido al hacer el late submission y el submission.csv utilizado.\n",
    "Además, la notebook principal debe incluir lo siguiente:\n",
    "\n",
    "Una explicación detallada de cómo se preprocesaron los datos (aquellos provistos para la competencia y datos externos)\n",
    "Una tabla con los distintos modelos e hiperparámetros que se hayan probado y sus respectivos scores.\n",
    "Gráficos con los embeddings obtenidos.\n",
    "Las respuestas a las siguientes preguntas:\n",
    "¿Qué son los Entity Embeddings y cómo se relacionan con las variables categóricas?\n",
    " Explique la métrica utilizada en la competencia.\n",
    "Recursos adicionales:\n",
    "\n",
    "Link del paper de Entity Embeddings: https://arxiv.org/pdf/1604.06737.pdf\n",
    "\n",
    "Repositorio de referencia: https://github.com/deeplearning-itba/kaggle-rossmann\n",
    "\n",
    "Entrevista al ganador de la competencia: https://medium.com/kaggle-blog/rossmann-store-sales-winners-interview-3rd-place-neokami-inc-ed67c7a2c3ca\n",
    "\n"
   ]
  },
  {
   "cell_type": "code",
   "execution_count": null,
   "id": "41592ef8-a70c-4c1a-94e0-9def7af2e66e",
   "metadata": {},
   "outputs": [],
   "source": []
  }
 ],
 "metadata": {
  "kernelspec": {
   "display_name": "Python 3 (ipykernel)",
   "language": "python",
   "name": "python3"
  },
  "language_info": {
   "codemirror_mode": {
    "name": "ipython",
    "version": 3
   },
   "file_extension": ".py",
   "mimetype": "text/x-python",
   "name": "python",
   "nbconvert_exporter": "python",
   "pygments_lexer": "ipython3",
   "version": "3.10.6"
  }
 },
 "nbformat": 4,
 "nbformat_minor": 5
}
